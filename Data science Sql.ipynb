{
 "cells": [
  {
   "cell_type": "code",
   "execution_count": 1,
   "id": "c9cc6ce6",
   "metadata": {
    "scrolled": true
   },
   "outputs": [
    {
     "name": "stdout",
     "output_type": "stream",
     "text": [
      "Collecting mysql-connector-python\n",
      "  Downloading mysql_connector_python-8.1.0-cp310-cp310-win_amd64.whl (10.9 MB)\n",
      "     ---------------------------------------- 10.9/10.9 MB 2.3 MB/s eta 0:00:00\n",
      "Collecting protobuf<=4.21.12,>=4.21.1\n",
      "  Downloading protobuf-4.21.12-cp310-abi3-win_amd64.whl (527 kB)\n",
      "     -------------------------------------- 527.0/527.0 kB 1.8 MB/s eta 0:00:00\n",
      "Installing collected packages: protobuf, mysql-connector-python\n",
      "Successfully installed mysql-connector-python-8.1.0 protobuf-4.21.12\n"
     ]
    }
   ],
   "source": [
    "!pip install mysql-connector-python\n"
   ]
  },
  {
   "cell_type": "code",
   "execution_count": 18,
   "id": "ea6379e5",
   "metadata": {},
   "outputs": [],
   "source": [
    "import mysql.connector"
   ]
  },
  {
   "cell_type": "code",
   "execution_count": 19,
   "id": "6780bd89",
   "metadata": {},
   "outputs": [
    {
     "name": "stdout",
     "output_type": "stream",
     "text": [
      "<mysql.connector.connection_cext.CMySQLConnection object at 0x0000021ECE8BAF20>\n"
     ]
    }
   ],
   "source": [
    "conn=mysql.connector.connect(host=\"localhost\",user=\"root\",passwd=\"Dsk151312@\")\n",
    "print(conn)"
   ]
  },
  {
   "cell_type": "code",
   "execution_count": 20,
   "id": "802691f4",
   "metadata": {},
   "outputs": [],
   "source": [
    "Mycurr=conn.cursor()\n",
    "Mycurr.execute(\"show databases\")"
   ]
  },
  {
   "cell_type": "code",
   "execution_count": 8,
   "id": "8e5a0b0b",
   "metadata": {},
   "outputs": [
    {
     "name": "stdout",
     "output_type": "stream",
     "text": [
      "('information_schema',)\n",
      "('mysql',)\n",
      "('performance_schema',)\n",
      "('shopdb',)\n",
      "('student_management',)\n",
      "('sys',)\n"
     ]
    }
   ],
   "source": [
    "for x in Mycurr:\n",
    "    print(x)\n",
    "conn.close()"
   ]
  },
  {
   "cell_type": "code",
   "execution_count": 35,
   "id": "e724d22c",
   "metadata": {},
   "outputs": [
    {
     "name": "stdout",
     "output_type": "stream",
     "text": [
      "(1, 'Rohit', 'A Ch', 20)\n",
      "(2, 'Kumaresh', 'N M', 20)\n",
      "(3, 'Adhithyan', 'B', 20)\n",
      "(4, 'Dhrish', 'S Kumar', 20)\n",
      "(5, 'Kirthana', 'Pati', 20)\n"
     ]
    }
   ],
   "source": [
    "import mysql.connector\n",
    "conn=mysql.connector.connect(\n",
    "host=\"localhost\",\n",
    "user=\"root\",\n",
    "password=\"Dsk151312@\",\n",
    "database=\"student_management\")\n",
    "    \n",
    "cur=conn.cursor()\n",
    "    \n",
    "val=[(1,\"Rohit\",\"A Ch\",20),(2,\"Kumaresh\",\"N M\",20),(3,\"Adhithyan\",\"B\",20),(4,\"Dhrish\",\"S Kumar\",20),(5,\"Kirthana\",\"Pati\",20)]\n",
    "qry='insert into students values(%s,%s,%s,%s)'\n",
    "    \n",
    "cur.executemany(qry,val)\n",
    "conn.commit()\n",
    "    \n",
    "cur.execute(\"Select * from students\")\n",
    "\n",
    "for x in cur:\n",
    "    print(x)\n",
    "conn.close()"
   ]
  },
  {
   "cell_type": "code",
   "execution_count": 38,
   "id": "d0d5f338",
   "metadata": {},
   "outputs": [
    {
     "name": "stdout",
     "output_type": "stream",
     "text": [
      "(1, 'Data science')\n",
      "(2, 'Computer Vision')\n",
      "(3, 'reinforcement Learning')\n",
      "(4, 'Tensorflow')\n"
     ]
    }
   ],
   "source": [
    "import mysql.connector\n",
    "conn=mysql.connector.connect(\n",
    "host=\"localhost\",\n",
    "user=\"root\",\n",
    "password=\"Dsk151312@\",\n",
    "database=\"student_management\")\n",
    "\n",
    "cur=conn.cursor()\n",
    "\n",
    "val=[(1,\"Data science\"),(2,\"Computer Vision\"),(3,\"reinforcement Learning\"),(4,\"Tensorflow\")]\n",
    "qry='insert into courses values(%s,%s)'\n",
    "cur.executemany(qry,val)\n",
    "conn.commit()\n",
    "\n",
    "cur.execute(\"Select * from courses\")\n",
    "\n",
    "for x in cur:\n",
    "    print(x)\n",
    "conn.close()"
   ]
  },
  {
   "cell_type": "code",
   "execution_count": null,
   "id": "9e347f72",
   "metadata": {},
   "outputs": [],
   "source": [
    "import mysql.connector\n",
    "conn=mysql.connector.connect(\n",
    "host=\"localhost\",\n",
    "user=\"root\",\n",
    "password=\"Dsk151312@\",\n",
    "database=\"student_management\")\n",
    "    \n",
    "cur=conn.cursor()\n",
    "    \n",
    "val=[(1, 1, 1),\n",
    "    (2, 2, 2),\n",
    "    (3, 3, 1),\n",
    "    (4, 4, 3),\n",
    "    (5, 5, 4)]\n",
    "qry='insert into enrollments values(%s,%s,%s)'\n",
    "    \n",
    "cur.executemany(qry,val)\n",
    "conn.commit()\n",
    "    \n",
    "\n",
    "for x in cur:\n",
    "    print(x)\n",
    "conn.close()"
   ]
  },
  {
   "cell_type": "code",
   "execution_count": 45,
   "id": "11fe6111",
   "metadata": {},
   "outputs": [
    {
     "name": "stdout",
     "output_type": "stream",
     "text": [
      "('Rohit', 'A Ch', 20)\n",
      "('Kumaresh', 'N M', 20)\n",
      "('Adhithyan', 'B', 20)\n",
      "('Dhrish', 'S Kumar', 20)\n",
      "('Kirthana', 'Pati', 20)\n"
     ]
    }
   ],
   "source": [
    "import mysql.connector\n",
    "conn=mysql.connector.connect(\n",
    "host=\"localhost\",\n",
    "user=\"root\",\n",
    "password=\"Dsk151312@\",\n",
    "database=\"student_management\")\n",
    "    \n",
    "cur=conn.cursor()\n",
    "    \n",
    "cur.execute(\"Select first_name,last_name,age from students\")\n",
    "\n",
    "for x in cur:\n",
    "    print(x)\n",
    "conn.close()"
   ]
  },
  {
   "cell_type": "code",
   "execution_count": 48,
   "id": "4fa34289",
   "metadata": {},
   "outputs": [
    {
     "name": "stdout",
     "output_type": "stream",
     "text": [
      "('Rohit', 'A Ch', 20)\n",
      "('Kumaresh', 'N M', 20)\n",
      "('Adhithyan', 'B', 20)\n",
      "('Dhrish', 'S Kumar', 20)\n",
      "('Kirthana', 'Pati', 20)\n"
     ]
    }
   ],
   "source": [
    "import mysql.connector\n",
    "conn=mysql.connector.connect(\n",
    "host=\"localhost\",\n",
    "user=\"root\",\n",
    "password=\"Dsk151312@\",\n",
    "database=\"student_management\")\n",
    "\n",
    "cur=conn.cursor()\n",
    "    \n",
    "cur.execute(\"Select first_name,last_name,age from students\")\n",
    "\n",
    "for x in cur:\n",
    "    print(x)\n",
    "conn.close()"
   ]
  },
  {
   "cell_type": "code",
   "execution_count": 51,
   "id": "2812292d",
   "metadata": {},
   "outputs": [
    {
     "name": "stdout",
     "output_type": "stream",
     "text": [
      "('Rohit', 'A Ch')\n",
      "('Kumaresh', 'N M')\n",
      "('Adhithyan', 'B')\n",
      "('Dhrish', 'S Kumar')\n",
      "('Kirthana', 'Pati')\n"
     ]
    }
   ],
   "source": [
    "# Find the names of students who are older than 25 years. ( here we will do age = 19)\n",
    "import mysql.connector\n",
    "conn=mysql.connector.connect(\n",
    "host=\"localhost\",\n",
    "user=\"root\",\n",
    "password=\"Dsk151312@\",\n",
    "database=\"student_management\")\n",
    "\n",
    "cur=conn.cursor()\n",
    "    \n",
    "cur.execute(\"Select first_name,last_name from students where age>19\")\n",
    "\n",
    "for x in cur:\n",
    "    print(x)\n",
    "conn.close()"
   ]
  },
  {
   "cell_type": "code",
   "execution_count": 54,
   "id": "e59a5a51",
   "metadata": {},
   "outputs": [
    {
     "name": "stdout",
     "output_type": "stream",
     "text": [
      "('Data science',)\n",
      "('Computer Vision',)\n",
      "('reinforcement Learning',)\n",
      "('Tensorflow',)\n"
     ]
    }
   ],
   "source": [
    "# List the courses that have at least 5 enrollments. ( here i am changing it to <=5)\n",
    "import mysql.connector\n",
    "conn=mysql.connector.connect(\n",
    "host=\"localhost\",\n",
    "user=\"root\",\n",
    "password=\"Dsk151312@\",\n",
    "database=\"student_management\")\n",
    "\n",
    "cur=conn.cursor()\n",
    "    \n",
    "cur.execute(\"SELECT course_name FROM courses WHERE course_id IN (SELECT course_id FROM enrollments GROUP BY course_id HAVING COUNT(*) <= 5)\")\n",
    "for x in cur:\n",
    "    print(x)\n",
    "conn.close()"
   ]
  },
  {
   "cell_type": "code",
   "execution_count": 63,
   "id": "f204cfc9",
   "metadata": {},
   "outputs": [
    {
     "name": "stdout",
     "output_type": "stream",
     "text": [
      "('Data science',)\n"
     ]
    }
   ],
   "source": [
    "# Retrieve the courses in which a specific student (by student ID) is enrolled.\n",
    "\n",
    "import mysql.connector\n",
    "\n",
    "conn = mysql.connector.connect(\n",
    "    host=\"localhost\",\n",
    "    user=\"root\",\n",
    "    password=\"Dsk151312@\",\n",
    "    database=\"student_management\"\n",
    ")\n",
    "\n",
    "cur = conn.cursor()\n",
    "student_id = 1  # Replace with the desired student ID\n",
    "\n",
    "query = \"\"\"\n",
    "    SELECT courses.course_name\n",
    "    FROM courses\n",
    "    INNER JOIN enrollments ON courses.course_id = enrollments.course_id\n",
    "    WHERE enrollments.student_id = %s\n",
    "\"\"\"\n",
    "\n",
    "cur.execute(query, (student_id,))  \n",
    "\n",
    "for x in cur:\n",
    "    print(x)\n",
    "\n",
    "conn.close()\n"
   ]
  },
  {
   "cell_type": "code",
   "execution_count": 67,
   "id": "a388f9a4",
   "metadata": {},
   "outputs": [
    {
     "name": "stdout",
     "output_type": "stream",
     "text": [
      "Average Age of Students: 20.0000\n"
     ]
    }
   ],
   "source": [
    "# Find the average age of all students.\n",
    "import mysql.connector\n",
    "\n",
    "conn = mysql.connector.connect(\n",
    "    host=\"localhost\",\n",
    "    user=\"root\",\n",
    "    password=\"Dsk151312@\",\n",
    "    database=\"student_management\"\n",
    ")\n",
    "\n",
    "cur = conn.cursor()\n",
    "\n",
    "cur.execute(\"Select avg(age) from students\")\n",
    "\n",
    "average_age = cur.fetchone()[0]\n",
    "\n",
    "print(\"Average Age of Students:\", average_age)\n",
    "conn.close()\n"
   ]
  },
  {
   "cell_type": "code",
   "execution_count": 74,
   "id": "0f8c3ccc",
   "metadata": {},
   "outputs": [
    {
     "name": "stdout",
     "output_type": "stream",
     "text": [
      "Rohit A Ch\n",
      "Adhithyan B\n"
     ]
    }
   ],
   "source": [
    "# List the students who are enrolled in a specific course (by course ID).\n",
    "\n",
    "import mysql.connector\n",
    "\n",
    "# Establish a connection to the MySQL database\n",
    "conn = mysql.connector.connect(\n",
    "    host=\"localhost\",\n",
    "    user=\"root\",\n",
    "    password=\"Dsk151312@\",\n",
    "    database=\"student_management\"\n",
    ")\n",
    "\n",
    "# Create a cursor to interact with the database\n",
    "cur = conn.cursor()\n",
    "\n",
    "# Define the course ID you want to search for (replace 1 with your desired course ID)\n",
    "course_id = 1\n",
    "\n",
    "# Execute the SQL query to retrieve students enrolled in the specific course\n",
    "query = f\"SELECT students.first_name, students.last_name FROM students \\\n",
    "         INNER JOIN enrollments ON students.student_id = enrollments.student_id \\\n",
    "         WHERE enrollments.course_id = {course_id}\"\n",
    "\n",
    "cur.execute(query)\n",
    "\n",
    "# Fetch all the rows of the result set\n",
    "enrolled_students = cur.fetchall()\n",
    "\n",
    "# Print the list of students enrolled in the specific course\n",
    "for student in enrolled_students:\n",
    "    print(f\"{student[0]} {student[1]}\")\n",
    "\n",
    "# Close the cursor and connection\n",
    "cur.close()\n",
    "conn.close()\n"
   ]
  },
  {
   "cell_type": "code",
   "execution_count": 76,
   "id": "cbb91d1a",
   "metadata": {},
   "outputs": [],
   "source": [
    "# Retrieve the students who have the same first names (e.g., find all students with the first name \"John\"\n",
    "\n",
    "import mysql.connector\n",
    "\n",
    "# Establish a connection to the MySQL database\n",
    "conn = mysql.connector.connect(\n",
    "    host=\"localhost\",\n",
    "    user=\"root\",\n",
    "    password=\"Dsk151312@\",\n",
    "    database=\"student_management\"\n",
    ")\n",
    "\n",
    "# Create a cursor to interact with the database\n",
    "cur = conn.cursor()\n",
    "\n",
    "# Define the first name you want to search for (replace 'John' with your desired first name)\n",
    "first_name_to_search = 'John'\n",
    "\n",
    "# Execute the SQL query to retrieve students with the specified first name\n",
    "query = f\"SELECT first_name, last_name FROM students WHERE first_name = '{first_name_to_search}'\"\n",
    "\n",
    "cur.execute(query)\n",
    "\n",
    "# Fetch all the rows of the result set\n",
    "matching_students = cur.fetchall()\n",
    "\n",
    "# Print the list of students with the specified first name\n",
    "for student in matching_students:\n",
    "    print(f\"{student[0]} {student[1]}\")\n",
    "\n",
    "# Close the cursor and connection\n",
    "cur.close()\n",
    "conn.close()\n"
   ]
  },
  {
   "cell_type": "code",
   "execution_count": 77,
   "id": "d23362b6",
   "metadata": {},
   "outputs": [
    {
     "name": "stdout",
     "output_type": "stream",
     "text": [
      "Student ID: 1, Name: Rohit A Ch, Course Count: 1\n",
      "Student ID: 2, Name: Kumaresh N M, Course Count: 1\n",
      "Student ID: 3, Name: Adhithyan B, Course Count: 1\n",
      "Student ID: 4, Name: Dhrish S Kumar, Course Count: 1\n",
      "Student ID: 5, Name: Kirthana Pati, Course Count: 1\n"
     ]
    }
   ],
   "source": [
    "# Count the number of courses each student is enrolled in and list the students along with their course counts.\n",
    "import mysql.connector\n",
    "\n",
    "# Establish a connection to the MySQL database\n",
    "conn = mysql.connector.connect(\n",
    "    host=\"localhost\",\n",
    "    user=\"root\",\n",
    "    password=\"Dsk151312@\",\n",
    "    database=\"student_management\"\n",
    ")\n",
    "\n",
    "# Create a cursor to interact with the database\n",
    "cur = conn.cursor()\n",
    "\n",
    "# Execute the SQL query to count the number of courses for each student\n",
    "query = \"\"\"\n",
    "    SELECT students.student_id, students.first_name, students.last_name, COUNT(enrollments.course_id) AS course_count\n",
    "    FROM students\n",
    "    LEFT JOIN enrollments ON students.student_id = enrollments.student_id\n",
    "    GROUP BY students.student_id, students.first_name, students.last_name\n",
    "\"\"\"\n",
    "\n",
    "cur.execute(query)\n",
    "\n",
    "# Fetch all the rows of the result set\n",
    "student_course_counts = cur.fetchall()\n",
    "\n",
    "# Print the list of students along with their course counts\n",
    "for student in student_course_counts:\n",
    "    student_id, first_name, last_name, course_count = student\n",
    "    print(f\"Student ID: {student_id}, Name: {first_name} {last_name}, Course Count: {course_count}\")\n",
    "\n",
    "# Close the cursor and connection\n",
    "cur.close()\n",
    "conn.close()\n",
    "\n"
   ]
  },
  {
   "cell_type": "code",
   "execution_count": 79,
   "id": "3fb435a3",
   "metadata": {},
   "outputs": [],
   "source": [
    "# Find the courses with no enrollments.\n",
    "import mysql.connector\n",
    "\n",
    "# Establish a connection to the MySQL database\n",
    "conn = mysql.connector.connect(\n",
    "    host=\"localhost\",\n",
    "    user=\"root\",\n",
    "    password=\"Dsk151312@\",\n",
    "    database=\"student_management\"\n",
    ")\n",
    "\n",
    "# Create a cursor to interact with the database\n",
    "cur = conn.cursor()\n",
    "\n",
    "# Execute the SQL query to find courses with no enrollments\n",
    "query = \"\"\"\n",
    "    SELECT courses.course_id, courses.course_name\n",
    "    FROM courses\n",
    "    LEFT JOIN enrollments ON courses.course_id = enrollments.course_id\n",
    "    WHERE enrollments.course_id IS NULL\n",
    "\"\"\"\n",
    "\n",
    "cur.execute(query)\n",
    "\n",
    "# Fetch all the rows of the result set\n",
    "courses_with_no_enrollments = cur.fetchall()\n",
    "\n",
    "# Print the list of courses with no enrollments\n",
    "for course in courses_with_no_enrollments:\n",
    "    course_id, course_name = course\n",
    "    print(f\"Course ID: {course_id}, Course Name: {course_name} has no enrollments.\")\n",
    "\n",
    "# Close the cursor and connection\n",
    "cur.close()\n",
    "conn.close()\n"
   ]
  },
  {
   "cell_type": "code",
   "execution_count": 80,
   "id": "f4a62eb8",
   "metadata": {},
   "outputs": [],
   "source": [
    "# Retrieve the courses with enrollments exceeding the average enrollment count.\n",
    "\n",
    "import mysql.connector\n",
    "\n",
    "# Establish a connection to the MySQL database\n",
    "conn = mysql.connector.connect(\n",
    "    host=\"localhost\",\n",
    "    user=\"root\",\n",
    "    password=\"Dsk151312@\",\n",
    "    database=\"student_management\"\n",
    ")\n",
    "\n",
    "# Create a cursor to interact with the database\n",
    "cur = conn.cursor()\n",
    "\n",
    "# Execute a single SQL query to find courses with enrollments exceeding the average enrollment count\n",
    "query_courses_exceeding_avg = \"\"\"\n",
    "    SELECT courses.course_id, courses.course_name, COUNT(enrollments.enrollment_id) as enrollment_count\n",
    "    FROM courses\n",
    "    INNER JOIN enrollments ON courses.course_id = enrollments.course_id\n",
    "    GROUP BY courses.course_id, courses.course_name\n",
    "    HAVING enrollment_count > (\n",
    "        SELECT AVG(enrollment_id) \n",
    "        FROM enrollments\n",
    "    )\n",
    "\"\"\"\n",
    "\n",
    "cur.execute(query_courses_exceeding_avg)\n",
    "\n",
    "# Fetch all the rows of the result set\n",
    "courses_exceeding_avg = cur.fetchall()\n",
    "\n",
    "# Print the list of courses with enrollments exceeding the average\n",
    "for course in courses_exceeding_avg:\n",
    "    course_id, course_name, enrollment_count = course\n",
    "    print(f\"Course ID: {course_id}, Course Name: {course_name}, Enrollment Count: {enrollment_count}\")\n",
    "\n",
    "# Close the cursor and connection\n",
    "cur.close()\n",
    "conn.close()\n",
    "\n",
    "    \n",
    "\n"
   ]
  },
  {
   "cell_type": "code",
   "execution_count": null,
   "id": "17ddc397",
   "metadata": {},
   "outputs": [],
   "source": []
  }
 ],
 "metadata": {
  "kernelspec": {
   "display_name": "Python 3 (ipykernel)",
   "language": "python",
   "name": "python3"
  },
  "language_info": {
   "codemirror_mode": {
    "name": "ipython",
    "version": 3
   },
   "file_extension": ".py",
   "mimetype": "text/x-python",
   "name": "python",
   "nbconvert_exporter": "python",
   "pygments_lexer": "ipython3",
   "version": "3.10.9"
  }
 },
 "nbformat": 4,
 "nbformat_minor": 5
}
