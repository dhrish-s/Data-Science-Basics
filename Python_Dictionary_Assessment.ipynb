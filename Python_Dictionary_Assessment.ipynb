{
  "nbformat": 4,
  "nbformat_minor": 0,
  "metadata": {
    "colab": {
      "provenance": []
    },
    "kernelspec": {
      "name": "python3",
      "display_name": "Python 3"
    },
    "language_info": {
      "name": "python"
    }
  },
  "cells": [
    {
      "cell_type": "code",
      "source": [],
      "metadata": {
        "id": "cRYDzUbGBQn2"
      },
      "execution_count": null,
      "outputs": []
    },
    {
      "cell_type": "code",
      "source": [],
      "metadata": {
        "id": "r0alJQ3P-cxC"
      },
      "execution_count": null,
      "outputs": []
    },
    {
      "cell_type": "markdown",
      "source": [
        "A sentence is a list of words that are separated by a single space with no leading or\n",
        "trailing spaces. Each word consists of lowercase and uppercase English letters.\n",
        "A sentence can be shuffled by appending the 1-indexed word position to each word then\n",
        "rearranging the words in the sentence.\n",
        "For example, the sentence &quot;This is a sentence&quot; can be shuffled as &quot;sentence4 a3 is2\n",
        "This1&quot; or &quot;is2 sentence4 This1 a3&quot;.\n",
        "Given a shuffled sentence s containing no more than 9 words, reconstruct and return the\n",
        "original sentence."
      ],
      "metadata": {
        "id": "BQCPn1mN-ews"
      }
    },
    {
      "cell_type": "code",
      "source": [
        "# Input sentence\n",
        "input_sentence = input(\"Input:\\n\")\n",
        "\n",
        "# Split the input sentence into words\n",
        "words = input_sentence.split()\n",
        "\n",
        "# Create a dictionary to store word positions and words\n",
        "word_dict = {}\n",
        "\n",
        "# Populate the dictionary\n",
        "for word in words:\n",
        "    word_position = int(word[-1])\n",
        "    word_text = word[:-1]\n",
        "    word_dict[word_position] = word_text\n",
        "\n",
        "# Reconstruct the original sentence by iterating through the dictionary\n",
        "original_sentence = ' '.join(word_dict[i] for i in range(1, len(words) + 1))\n",
        "\n",
        "# Output the reconstructed sentence\n",
        "print(\"Output:\")\n",
        "print(original_sentence)"
      ],
      "metadata": {
        "id": "P3gtGZPOBQrN",
        "colab": {
          "base_uri": "https://localhost:8080/"
        },
        "outputId": "691f3217-42ae-452b-8094-6308e130f8ab"
      },
      "execution_count": 4,
      "outputs": [
        {
          "output_type": "stream",
          "name": "stdout",
          "text": [
            "Input:\n",
            "Myself2 Me1\n",
            "Output:\n",
            "Me Myself\n"
          ]
        }
      ]
    },
    {
      "cell_type": "markdown",
      "source": [
        "Two words are anagrams if they contain all of the same letters, but in a different order.\n",
        "For example, “evil” and “live” are anagrams because each contains one “e”, one “i”, one\n",
        "“l”, and one “v”. Create a program that reads two strings from the user, determines\n",
        "whether or not they are anagrams, and reports the result."
      ],
      "metadata": {
        "id": "wy9LDkb5-WVy"
      }
    },
    {
      "cell_type": "code",
      "source": [
        "# Input strings\n",
        "string1 = input(\"Enter the first string: \")\n",
        "string2 = input(\"Enter the second string: \")\n",
        "\n",
        "# Create dictionaries to store character frequencies\n",
        "char_freq1 = {}\n",
        "char_freq2 = {}\n",
        "\n",
        "# Count character frequencies in the first string\n",
        "for char in string1:\n",
        "    if char in char_freq1:\n",
        "        char_freq1[char] += 1\n",
        "    else:\n",
        "        char_freq1[char] = 1\n",
        "\n",
        "# Count character frequencies in the second string\n",
        "for char in string2:\n",
        "    if char in char_freq2:\n",
        "        char_freq2[char] += 1\n",
        "    else:\n",
        "        char_freq2[char] = 1\n",
        "\n",
        "# Compare the dictionaries to determine if strings are anagrams\n",
        "if char_freq1 == char_freq2:\n",
        "    print(\"Those strings are anagrams.\")\n",
        "else:\n",
        "    print(\"Those strings are not anagrams.\")"
      ],
      "metadata": {
        "colab": {
          "base_uri": "https://localhost:8080/"
        },
        "id": "UPqPFRvs5JFR",
        "outputId": "51e606dd-c60e-4020-9d81-e8523760bdae"
      },
      "execution_count": 5,
      "outputs": [
        {
          "output_type": "stream",
          "name": "stdout",
          "text": [
            "Enter the first string: evilas\n",
            "Enter the second string: hello\n",
            "Those strings are not anagrams.\n"
          ]
        }
      ]
    },
    {
      "cell_type": "markdown",
      "source": [
        "Write a program that computes and displays the Scrabble™ score for a word. Create a\n",
        "dictionary that maps from letters to point values. Then use the dictionary to compute the\n",
        "score.\n",
        "A Scrabble™ board includes some squares that multiply the value of a letter or the value\n",
        "of an entire word. We will ignore these squares in this exercise."
      ],
      "metadata": {
        "id": "jD2qTyK1-PF3"
      }
    },
    {
      "cell_type": "code",
      "source": [
        "# Dictionary mapping letters to point values\n",
        "d = {\n",
        "    'A': 1, 'E': 1, 'I': 1, 'L': 1, 'N': 1, 'O': 1, 'R': 1, 'S': 1, 'T': 1, 'U': 1,\n",
        "    'D': 2, 'G': 2,\n",
        "    'B': 3, 'C': 3, 'M': 3, 'P': 3,\n",
        "    'F': 4, 'H': 4, 'V': 4, 'W': 4, 'Y': 4,\n",
        "    'K': 5,\n",
        "    'J': 8, 'X': 8,\n",
        "    'Q': 10, 'Z': 10\n",
        "}\n",
        "\n",
        "# Input word\n",
        "word = input(\"Enter a word: \").upper()\n",
        "\n",
        "# Calculate the Scrabble™ score for the word\n",
        "score = sum(d[char] for char in word)\n",
        "\n",
        "# Output the score\n",
        "print(f\"{word} is worth {score} points.\")"
      ],
      "metadata": {
        "colab": {
          "base_uri": "https://localhost:8080/"
        },
        "id": "GJEPAkZS5JIc",
        "outputId": "fe5c6a3f-9d6d-4527-f681-310dd6fe7733"
      },
      "execution_count": 6,
      "outputs": [
        {
          "output_type": "stream",
          "name": "stdout",
          "text": [
            "Enter a word: dhruv\n",
            "DHRUV is worth 12 points.\n"
          ]
        }
      ]
    },
    {
      "cell_type": "code",
      "source": [],
      "metadata": {
        "id": "7dOg2Z9s5JLk"
      },
      "execution_count": 6,
      "outputs": []
    }
  ]
}