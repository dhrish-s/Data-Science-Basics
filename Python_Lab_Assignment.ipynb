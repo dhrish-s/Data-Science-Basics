{
  "nbformat": 4,
  "nbformat_minor": 0,
  "metadata": {
    "colab": {
      "provenance": []
    },
    "kernelspec": {
      "name": "python3",
      "display_name": "Python 3"
    },
    "language_info": {
      "name": "python"
    }
  },
  "cells": [
    {
      "cell_type": "code",
      "execution_count": null,
      "metadata": {
        "id": "bG56CymLumsv"
      },
      "outputs": [],
      "source": []
    },
    {
      "cell_type": "code",
      "source": [
        "# Read the number of containers from the user\n",
        "small_containers = int(input(\"Enter the number of small containers: \"))\n",
        "large_containers = int(input(\"Enter the number of large containers: \"))\n",
        "\n",
        "# Calculate the refund amount for each type of container\n",
        "refund_small = small_containers * 0.10\n",
        "refund_large = large_containers * 0.25\n",
        "\n",
        "# Calculate the total refund\n",
        "total_refund = refund_small + refund_large\n",
        "\n",
        "# Format and display the output\n",
        "print(f\"Your total refund will be ${total_refund:.2f}.\")"
      ],
      "metadata": {
        "colab": {
          "base_uri": "https://localhost:8080/"
        },
        "id": "OO5m2Pctusf-",
        "outputId": "210dc61e-126a-47b5-f402-945d5ce9c11a"
      },
      "execution_count": 3,
      "outputs": [
        {
          "output_type": "stream",
          "name": "stdout",
          "text": [
            "Enter the number of small containers: 10\n",
            "Enter the number of large containers: 20\n",
            "Your total refund will be $6.00.\n"
          ]
        }
      ]
    },
    {
      "cell_type": "code",
      "source": [
        "# Read a positive integer from the user\n",
        "n = int(input(\"Enter a positive integer: \"))\n",
        "\n",
        "# Calculate the sum using the formula\n",
        "sum = n * (n + 1) / 2\n",
        "\n",
        "# Display the result\n",
        "print(f\"The sum of the first {n} positive integers is {sum:.1f}.\")"
      ],
      "metadata": {
        "colab": {
          "base_uri": "https://localhost:8080/"
        },
        "id": "kwM4x14Wusi5",
        "outputId": "0b8031e7-49f1-4ead-ff74-f1759797ec65"
      },
      "execution_count": 4,
      "outputs": [
        {
          "output_type": "stream",
          "name": "stdout",
          "text": [
            "Enter a positive integer: 10\n",
            "The sum of the first 10 positive integers is 55.0.\n"
          ]
        }
      ]
    },
    {
      "cell_type": "code",
      "source": [
        "# Read a letter from the user\n",
        "letter = input(\"Enter a letter of the alphabet: \")\n",
        "\n",
        "# Convert the letter to lowercase for easier comparison\n",
        "letter = letter.lower()\n",
        "\n",
        "# Check if the entered letter is a vowel\n",
        "if letter in ['a', 'e', 'i', 'o', 'u']:\n",
        "    print(\"It's a vowel.\")\n",
        "elif letter == 'y':\n",
        "    print(\"Sometimes it's a vowel... Sometimes it's a consonant.\")\n",
        "else:\n",
        "    print(\"It's a consonant.\")"
      ],
      "metadata": {
        "colab": {
          "base_uri": "https://localhost:8080/"
        },
        "id": "-6L2V-77uslx",
        "outputId": "c4c0f8d5-f836-4cc1-92d8-5f2d69ec3d1d"
      },
      "execution_count": 5,
      "outputs": [
        {
          "output_type": "stream",
          "name": "stdout",
          "text": [
            "Enter a letter of the alphabet: i\n",
            "It's a vowel.\n"
          ]
        }
      ]
    },
    {
      "cell_type": "code",
      "source": [
        "# Read the name of a month from the user\n",
        "month = input(\"Enter the name of a month: \").lower()  # Convert to lowercase for comparison\n",
        "\n",
        "# Define a dictionary with month names as keys and their corresponding days as values\n",
        "month_days = {\n",
        "    'january': 31,\n",
        "    'february': '28 or 29',\n",
        "    'march': 31,\n",
        "    'april': 30,\n",
        "    'may': 31,\n",
        "    'june': 30,\n",
        "    'july': 31,\n",
        "    'august': 31,\n",
        "    'september': 30,\n",
        "    'october': 31,\n",
        "    'november': 30,\n",
        "    'december': 31\n",
        "}\n",
        "\n",
        "# Check if the entered month is in the dictionary, and display the result\n",
        "if month in month_days:\n",
        "    days = month_days[month]\n",
        "    print(f\"{month.capitalize()} has {days} days in it.\")\n",
        "else:\n",
        "    print(\"Invalid month name.\")"
      ],
      "metadata": {
        "colab": {
          "base_uri": "https://localhost:8080/"
        },
        "id": "LY_5L5Cfusog",
        "outputId": "93992c32-fcda-45b8-a6a3-8842937bfeef"
      },
      "execution_count": 6,
      "outputs": [
        {
          "output_type": "stream",
          "name": "stdout",
          "text": [
            "Enter the name of a month: February\n",
            "February has 28 or 29 days in it.\n"
          ]
        }
      ]
    },
    {
      "cell_type": "code",
      "source": [
        "# Read an integer from the user\n",
        "num = int(input(\"Enter an integer: \"))\n",
        "\n",
        "# Convert the number to a string to extract digits\n",
        "num_str = str(num)\n",
        "\n",
        "# Initialize variables for sum and position\n",
        "total_sum = 0\n",
        "position = 1\n",
        "\n",
        "# Iterate through each digit in the number\n",
        "for digit in num_str:\n",
        "    total_sum += int(digit) ** position\n",
        "    position += 1\n",
        "\n",
        "# Check if the total sum matches the original number\n",
        "if total_sum == num:\n",
        "    print(\"Yes\")\n",
        "else:\n",
        "    print(\"No\")"
      ],
      "metadata": {
        "colab": {
          "base_uri": "https://localhost:8080/"
        },
        "id": "_ZgKPImrusr5",
        "outputId": "7079b676-3653-43f2-9704-c720a269c0a5"
      },
      "execution_count": 7,
      "outputs": [
        {
          "output_type": "stream",
          "name": "stdout",
          "text": [
            "Enter an integer: 175\n",
            "Yes\n"
          ]
        }
      ]
    },
    {
      "cell_type": "code",
      "source": [
        "# Initialize an empty list to store the integers\n",
        "numbers = []\n",
        "\n",
        "# Read integers from the user until 0 is entered\n",
        "while True:\n",
        "    num = int(input(\"Enter an integer (0 to stop): \"))\n",
        "    if num == 0:\n",
        "        break\n",
        "    numbers.append(num)\n",
        "\n",
        "# Display the non-zero values in reverse order\n",
        "for num in reverse(numbers):\n",
        "    print(num)"
      ],
      "metadata": {
        "colab": {
          "base_uri": "https://localhost:8080/"
        },
        "id": "UYnX_bJ_yOti",
        "outputId": "80429aba-dd91-4559-ba14-93c794729617"
      },
      "execution_count": 9,
      "outputs": [
        {
          "output_type": "stream",
          "name": "stdout",
          "text": [
            "Enter an integer (0 to stop): 55\n",
            "Enter an integer (0 to stop): 22\n",
            "Enter an integer (0 to stop): 33\n",
            "Enter an integer (0 to stop): 0\n",
            "33\n",
            "22\n",
            "55\n"
          ]
        }
      ]
    },
    {
      "cell_type": "code",
      "source": [
        "# Read the email address from the user\n",
        "email = input(\"Enter an email address: \")\n",
        "\n",
        "# Split the email address into username and domain parts\n",
        "username, domain = email.split(\"@\")\n",
        "\n",
        "# Split the domain part to extract the company name\n",
        "company = domain.split(\".\")[0]\n",
        "\n",
        "# Capitalize the first letter of the company name\n",
        "company_name = company.capitalize()\n",
        "\n",
        "# Print the company name\n",
        "print(company_name)"
      ],
      "metadata": {
        "colab": {
          "base_uri": "https://localhost:8080/"
        },
        "id": "kdLipdG0y1cr",
        "outputId": "67b5cc68-1bd2-47a2-a049-724fc8e733dd"
      },
      "execution_count": 13,
      "outputs": [
        {
          "output_type": "stream",
          "name": "stdout",
          "text": [
            "Enter an email address: john@google.com\n",
            "Google\n"
          ]
        }
      ]
    },
    {
      "cell_type": "code",
      "source": [
        "# Read an integer from the user\n",
        "num = int(input(\"Enter an integer: \"))\n",
        "\n",
        "# Calculate the sum of proper divisors\n",
        "divisor_sum = 0\n",
        "for i in range(1, num):\n",
        "    if num % i == 0:\n",
        "        divisor_sum += i\n",
        "\n",
        "# Check if the sum of proper divisors is equal to the original number\n",
        "if divisor_sum == num:\n",
        "    print(True)\n",
        "else:\n",
        "    print(False)"
      ],
      "metadata": {
        "colab": {
          "base_uri": "https://localhost:8080/"
        },
        "id": "dqSuyVvFzzgq",
        "outputId": "d7bbc98f-e5a3-4c83-c09c-463bdf22b3e4"
      },
      "execution_count": 11,
      "outputs": [
        {
          "output_type": "stream",
          "name": "stdout",
          "text": [
            "Enter an integer: 32\n",
            "False\n"
          ]
        }
      ]
    },
    {
      "cell_type": "code",
      "source": [
        "# Initialize a variable to store the total cost\n",
        "total_cost = 0\n",
        "\n",
        "# Iterate for each item and get input from the user\n",
        "for i in range(5):\n",
        "    item_name = input(\"Enter item name: \")\n",
        "    item_cost = float(input(\"Enter item cost: \"))\n",
        "    noof_items = int(input(\"Enter number of items: \"))\n",
        "\n",
        "    # Calculate the cost for this item and add it to the total\n",
        "    item_total = item_cost * noof_items\n",
        "    total_cost += item_total\n",
        "\n",
        "# Display the total cost\n",
        "print(\"Total cost:\", total_cost)"
      ],
      "metadata": {
        "colab": {
          "base_uri": "https://localhost:8080/"
        },
        "id": "_ShJSSu202UW",
        "outputId": "f7a1ce06-c08c-47e0-b853-10db42e2b852"
      },
      "execution_count": 14,
      "outputs": [
        {
          "output_type": "stream",
          "name": "stdout",
          "text": [
            "Enter item name: bread\n",
            "Enter item cost: 45\n",
            "Enter number of items: 5\n",
            "Enter item name: milk\n",
            "Enter item cost: 40\n",
            "Enter number of items: 2\n",
            "Enter item name: cheese\n",
            "Enter item cost: 60\n",
            "Enter number of items: 2\n",
            "Enter item name: butter\n",
            "Enter item cost: 90\n",
            "Enter number of items: 2\n",
            "Enter item name: jam\n",
            "Enter item cost: 60\n",
            "Enter number of items: 2\n",
            "Total cost: 725.0\n"
          ]
        }
      ]
    },
    {
      "cell_type": "code",
      "source": [],
      "metadata": {
        "id": "4j26-Vy-1BPG"
      },
      "execution_count": null,
      "outputs": []
    }
  ]
}