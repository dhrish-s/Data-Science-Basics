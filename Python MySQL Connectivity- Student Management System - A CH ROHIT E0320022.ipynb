{
 "cells": [
  {
   "cell_type": "markdown",
   "id": "a1513c07",
   "metadata": {},
   "source": [
    "### Name: A.Ch.Rohit\n",
    "### Unique Id: E0320022\n"
   ]
  },
  {
   "cell_type": "code",
   "execution_count": 33,
   "id": "93fe9810",
   "metadata": {},
   "outputs": [],
   "source": [
    "import mysql.connector"
   ]
  },
  {
   "cell_type": "code",
   "execution_count": 34,
   "id": "e89b0add",
   "metadata": {},
   "outputs": [],
   "source": [
    "def mysql_connector():\n",
    "    conn=mysql.connector.connect(\n",
    "    host=\"localhost\",\n",
    "    user=\"root\",\n",
    "    password=\"rohit08\",\n",
    "    database=\"student_management\")\n",
    "    cur=conn.cursor()\n",
    "    return conn,cur"
   ]
  },
  {
   "cell_type": "code",
   "execution_count": 2,
   "id": "6b057c18",
   "metadata": {},
   "outputs": [
    {
     "name": "stdout",
     "output_type": "stream",
     "text": [
      "(1, 'Rohit', 'A Ch', 20)\n",
      "(2, 'Kumaresh', 'N M', 20)\n",
      "(3, 'Adhithyan', 'B', 20)\n",
      "(4, 'Dhrish', 'S Kumar', 20)\n",
      "(5, 'Kirthana', 'Pati', 20)\n"
     ]
    }
   ],
   "source": [
    "import mysql.connector\n",
    "conn=mysql.connector.connect(\n",
    "host=\"localhost\",\n",
    "user=\"root\",\n",
    "password=\"rohit08\",\n",
    "database=\"student_management\")\n",
    "    \n",
    "cur=conn.cursor()\n",
    "    \n",
    "val=[(1,\"Rohit\",\"A Ch\",20),(2,\"Kumaresh\",\"N M\",20),(3,\"Adhithyan\",\"B\",20),(4,\"Dhrish\",\"S Kumar\",20),(5,\"Kirthana\",\"Pati\",20)]\n",
    "qry='insert into students values(%s,%s,%s,%s)'\n",
    "    \n",
    "cur.executemany(qry,val)\n",
    "conn.commit()\n",
    "    \n",
    "cur.execute(\"Select * from students\")\n",
    "\n",
    "for x in cur:\n",
    "    print(x)\n",
    "conn.close()"
   ]
  },
  {
   "cell_type": "code",
   "execution_count": 5,
   "id": "1d528706",
   "metadata": {},
   "outputs": [
    {
     "name": "stdout",
     "output_type": "stream",
     "text": [
      "(1, 'Data Science')\n",
      "(2, 'Computer Vision')\n",
      "(3, 'Reinforcement Learning')\n",
      "(4, 'Tensorflow')\n"
     ]
    }
   ],
   "source": [
    "import mysql.connector\n",
    "conn=mysql.connector.connect(\n",
    "host=\"localhost\",\n",
    "user=\"root\",\n",
    "password=\"rohit08\",\n",
    "database=\"student_management\")\n",
    "    \n",
    "cur=conn.cursor()\n",
    "    \n",
    "val=[(1,\"Data Science\"),(2,\"Computer Vision\"),(3,\"Reinforcement Learning\"),(4,\"Tensorflow\")]\n",
    "qry='insert into courses values(%s,%s)'\n",
    "    \n",
    "cur.executemany(qry,val)\n",
    "conn.commit()\n",
    "    \n",
    "cur.execute(\"Select * from courses\")\n",
    "\n",
    "for x in cur:\n",
    "    print(x)\n",
    "conn.close()"
   ]
  },
  {
   "cell_type": "code",
   "execution_count": 9,
   "id": "c37d766c",
   "metadata": {},
   "outputs": [
    {
     "name": "stdout",
     "output_type": "stream",
     "text": [
      "(1, 'Data Science')\n",
      "(2, 'Computer Vision')\n",
      "(3, 'Reinforcement Learning')\n",
      "(4, 'Tensorflow')\n"
     ]
    }
   ],
   "source": [
    "import mysql.connector\n",
    "conn=mysql.connector.connect(\n",
    "host=\"localhost\",\n",
    "user=\"root\",\n",
    "password=\"rohit08\",\n",
    "database=\"student_management\")\n",
    "    \n",
    "cur=conn.cursor()\n",
    "    \n",
    "val=[(1, 1, 1),\n",
    "    (2, 2, 2),\n",
    "    (3, 3, 1),\n",
    "    (4, 4, 3),\n",
    "    (5, 5, 4)]\n",
    "qry='insert into enrollments values(%s,%s,%s)'\n",
    "    \n",
    "cur.executemany(qry,val)\n",
    "conn.commit()\n",
    "    \n",
    "\n",
    "for x in cur:\n",
    "    print(x)\n",
    "conn.close()"
   ]
  },
  {
   "cell_type": "markdown",
   "id": "6c9d1acd",
   "metadata": {},
   "source": [
    "1. Retrieve the list of all students in the database, including their first names, last names,\n",
    "and ages."
   ]
  },
  {
   "cell_type": "code",
   "execution_count": 48,
   "id": "ec8a2da1",
   "metadata": {},
   "outputs": [
    {
     "name": "stdout",
     "output_type": "stream",
     "text": [
      "('Rohit', 'A Ch', 20)\n",
      "('Kumaresh', 'N M', 20)\n",
      "('Adhithyan', 'B', 20)\n",
      "('Dhrish', 'S Kumar', 20)\n",
      "('Kirthana', 'Pati', 20)\n",
      "('Virat', 'Kohli', 32)\n",
      "('Rohit', 'Sharma', 32)\n",
      "('John', 'Cena', 35)\n",
      "('John', 'Wick', 19)\n"
     ]
    }
   ],
   "source": [
    "import mysql.connector\n",
    "conn=mysql.connector.connect(\n",
    "host=\"localhost\",\n",
    "user=\"root\",\n",
    "password=\"rohit08\",\n",
    "database=\"student_management\")\n",
    "    \n",
    "cur=conn.cursor()\n",
    "    \n",
    "cur.execute(\"Select first_name,last_name,age from students\")\n",
    "\n",
    "for x in cur:\n",
    "    print(x)\n",
    "conn.close()"
   ]
  },
  {
   "cell_type": "markdown",
   "id": "170f63ab",
   "metadata": {},
   "source": [
    "2. Find the names of students who are older than 25 years."
   ]
  },
  {
   "cell_type": "code",
   "execution_count": 16,
   "id": "04bad30c",
   "metadata": {},
   "outputs": [
    {
     "name": "stdout",
     "output_type": "stream",
     "text": [
      "('Virat', 'Kohli', 32)\n",
      "('Rohit', 'Sharma', 32)\n"
     ]
    }
   ],
   "source": [
    "import mysql.connector\n",
    "conn=mysql.connector.connect(\n",
    "host=\"localhost\",\n",
    "user=\"root\",\n",
    "password=\"rohit08\",\n",
    "database=\"student_management\")\n",
    "    \n",
    "cur=conn.cursor()\n",
    "    \n",
    "cur.execute(\"Select first_name,last_name,age from students where age>25\")\n",
    "for x in cur:\n",
    "    print(x)\n",
    "conn.close()"
   ]
  },
  {
   "cell_type": "markdown",
   "id": "08b983e0",
   "metadata": {},
   "source": [
    "3. List the courses that have at least 5 enrollments."
   ]
  },
  {
   "cell_type": "code",
   "execution_count": 81,
   "id": "dcf4df96",
   "metadata": {},
   "outputs": [
    {
     "name": "stdout",
     "output_type": "stream",
     "text": [
      "('Tensorflow', 5)\n"
     ]
    }
   ],
   "source": [
    "import mysql.connector\n",
    "conn=mysql.connector.connect(\n",
    "host=\"localhost\",\n",
    "user=\"root\",\n",
    "password=\"rohit08\",\n",
    "database=\"student_management\")\n",
    "    \n",
    "cur=conn.cursor()\n",
    "    \n",
    "cur.execute(\"select c.course_name,j.cnt from courses c join (Select course_id,count(enrollment_id) as cnt from enrollments group by course_id having count(enrollment_id)>=5)j on c.course_id=j.course_id\")\n",
    "for x in cur:\n",
    "    print(x)\n",
    "conn.close()"
   ]
  },
  {
   "cell_type": "markdown",
   "id": "ab54b24b",
   "metadata": {},
   "source": [
    "4. Retrieve the courses in which a specific student (by student ID) is enrolled."
   ]
  },
  {
   "cell_type": "code",
   "execution_count": 25,
   "id": "8d8d09e2",
   "metadata": {},
   "outputs": [
    {
     "name": "stdout",
     "output_type": "stream",
     "text": [
      "(s.student_id,e.course_id,c.course_name)\n",
      "(3, 1, 'Data Science')\n",
      "(3, 4, 'Tensorflow')\n"
     ]
    }
   ],
   "source": [
    "import mysql.connector\n",
    "conn=mysql.connector.connect(\n",
    "host=\"localhost\",\n",
    "user=\"root\",\n",
    "password=\"rohit08\",\n",
    "database=\"student_management\")\n",
    "    \n",
    "cur=conn.cursor()\n",
    "    \n",
    "cur.execute(\"Select e.student_id,e.course_id,c.course_name from courses c join enrollments e on c.course_id=e.course_id where student_id=3\")\n",
    "print('(s.student_id,e.course_id,c.course_name)')\n",
    "for x in cur:\n",
    "    print(x)\n",
    "conn.close()"
   ]
  },
  {
   "cell_type": "markdown",
   "id": "8c373cf2",
   "metadata": {},
   "source": [
    "5. Find the average age of all students."
   ]
  },
  {
   "cell_type": "code",
   "execution_count": 84,
   "id": "7e255999",
   "metadata": {},
   "outputs": [
    {
     "name": "stdout",
     "output_type": "stream",
     "text": [
      "(Average_Age)\n",
      "(Decimal('24.2222'),)\n"
     ]
    }
   ],
   "source": [
    "import mysql.connector\n",
    "conn=mysql.connector.connect(\n",
    "host=\"localhost\",\n",
    "user=\"root\",\n",
    "password=\"rohit08\",\n",
    "database=\"student_management\")\n",
    "    \n",
    "cur=conn.cursor()\n",
    "    \n",
    "cur.execute(\"Select avg(age) as Average_Age from students\")\n",
    "print('(Average_Age)')\n",
    "for x in cur:\n",
    "    print(x)\n",
    "conn.close()"
   ]
  },
  {
   "cell_type": "markdown",
   "id": "b30d336c",
   "metadata": {},
   "source": [
    "6. List the students who are enrolled in a specific course (by course ID)."
   ]
  },
  {
   "cell_type": "code",
   "execution_count": 32,
   "id": "d7872491",
   "metadata": {},
   "outputs": [
    {
     "name": "stdout",
     "output_type": "stream",
     "text": [
      "(s.first_name,s.last_name,e.course_id)\n",
      "('Kirthana', 'Pati', 4)\n",
      "('Rohit', 'A Ch', 4)\n",
      "('Kumaresh', 'N M', 4)\n",
      "('Adhithyan', 'B', 4)\n",
      "('Dhrish', 'S Kumar', 4)\n"
     ]
    }
   ],
   "source": [
    "import mysql.connector\n",
    "conn=mysql.connector.connect(\n",
    "host=\"localhost\",\n",
    "user=\"root\",\n",
    "password=\"rohit08\",\n",
    "database=\"student_management\")\n",
    "    \n",
    "cur=conn.cursor()\n",
    "    \n",
    "cur.execute(\"Select s.first_name,s.last_name,e.course_id from students s join enrollments e on s.student_id=e.student_id where e.course_id=4\")\n",
    "print('(s.first_name,s.last_name,e.course_id)')\n",
    "for x in cur:\n",
    "    print(x)\n",
    "conn.close()"
   ]
  },
  {
   "cell_type": "markdown",
   "id": "39be67db",
   "metadata": {},
   "source": [
    "7. Retrieve the students who have the same first names (e.g., find all students with the\n",
    "first name &quot;John&quot;)."
   ]
  },
  {
   "cell_type": "code",
   "execution_count": 36,
   "id": "79e8e196",
   "metadata": {},
   "outputs": [
    {
     "name": "stdout",
     "output_type": "stream",
     "text": [
      "(1, 'Rohit', 'A Ch', 20)\n",
      "(2, 'Kumaresh', 'N M', 20)\n",
      "(3, 'Adhithyan', 'B', 20)\n",
      "(4, 'Dhrish', 'S Kumar', 20)\n",
      "(5, 'Kirthana', 'Pati', 20)\n",
      "(6, 'Virat', 'Kohli', 32)\n",
      "(7, 'Rohit', 'Sharma', 32)\n",
      "(8, 'John', 'Cena', 35)\n",
      "(9, 'John', 'Wick', 19)\n"
     ]
    },
    {
     "data": {
      "text/plain": [
       "True"
      ]
     },
     "execution_count": 36,
     "metadata": {},
     "output_type": "execute_result"
    }
   ],
   "source": [
    "conn,cur=mysql_connector()\n",
    "qry='insert into students values(%s,%s,%s,%s)'\n",
    "val=[(8,\"John\",\"Cena\",35),(9,\"John\",\"Wick\",19)]\n",
    "cur.executemany(qry,val)\n",
    "conn.commit()\n",
    "cur.execute(\"select * from students\")\n",
    "for x in cur:\n",
    "    print(x)\n",
    "cur.close()"
   ]
  },
  {
   "cell_type": "code",
   "execution_count": 50,
   "id": "b5cb41a0",
   "metadata": {},
   "outputs": [
    {
     "name": "stdout",
     "output_type": "stream",
     "text": [
      "(student_id,first_name,last_name,age)\n",
      "(1, 'Rohit', 'A Ch', 20)\n",
      "(7, 'Rohit', 'Sharma', 32)\n",
      "(8, 'John', 'Cena', 35)\n",
      "(9, 'John', 'Wick', 19)\n"
     ]
    },
    {
     "data": {
      "text/plain": [
       "True"
      ]
     },
     "execution_count": 50,
     "metadata": {},
     "output_type": "execute_result"
    }
   ],
   "source": [
    "conn,cur=mysql_connector()\n",
    "cur.execute('select * from students where first_name in (select first_name from students group by first_name having count(first_name) > 1)')\n",
    "print(\"(student_id,first_name,last_name,age)\")\n",
    "for x in cur:\n",
    "    print(x)\n",
    "cur.close()"
   ]
  },
  {
   "cell_type": "markdown",
   "id": "04539811",
   "metadata": {},
   "source": [
    "8. Count the number of courses each student is enrolled in and list the students along\n",
    "with their course counts."
   ]
  },
  {
   "cell_type": "code",
   "execution_count": 53,
   "id": "36ab6ff5",
   "metadata": {},
   "outputs": [
    {
     "name": "stdout",
     "output_type": "stream",
     "text": [
      "(1, 'Rohit', 'A Ch', 2)\n",
      "(2, 'Kumaresh', 'N M', 2)\n",
      "(3, 'Adhithyan', 'B', 2)\n",
      "(4, 'Dhrish', 'S Kumar', 2)\n",
      "(5, 'Kirthana', 'Pati', 1)\n"
     ]
    },
    {
     "data": {
      "text/plain": [
       "True"
      ]
     },
     "execution_count": 53,
     "metadata": {},
     "output_type": "execute_result"
    }
   ],
   "source": [
    "conn,cur=mysql_connector()\n",
    "cur.execute('Select s.student_id,s.first_name,s.last_name,count(e.course_id) as number_of_courses_enrolled from students s join enrollments e on s.student_id=e.student_id group by e.student_id ')\n",
    "for x in cur:\n",
    "    print(x)\n",
    "cur.close()"
   ]
  },
  {
   "cell_type": "markdown",
   "id": "fac1b1b0",
   "metadata": {},
   "source": [
    "9. Find the courses with no enrollments."
   ]
  },
  {
   "cell_type": "code",
   "execution_count": 55,
   "id": "3f5fcb16",
   "metadata": {},
   "outputs": [
    {
     "name": "stdout",
     "output_type": "stream",
     "text": [
      "(5, 'Placement')\n"
     ]
    },
    {
     "data": {
      "text/plain": [
       "True"
      ]
     },
     "execution_count": 55,
     "metadata": {},
     "output_type": "execute_result"
    }
   ],
   "source": [
    "conn,cur=mysql_connector()\n",
    "cur.execute(\"select * from courses where course_id not in (select course_id from enrollments)\")\n",
    "for x in cur:\n",
    "    print(x)\n",
    "cur.close()"
   ]
  },
  {
   "cell_type": "markdown",
   "id": "11f6b9a4",
   "metadata": {},
   "source": [
    "10. Retrieve the courses with enrollments exceeding the average enrollment count."
   ]
  },
  {
   "cell_type": "code",
   "execution_count": 79,
   "id": "11d0dac8",
   "metadata": {},
   "outputs": [
    {
     "name": "stdout",
     "output_type": "stream",
     "text": [
      "(c.course_id,c.course_name,sub.cnt)\n",
      "(4, 'Tensorflow', 5)\n"
     ]
    },
    {
     "data": {
      "text/plain": [
       "True"
      ]
     },
     "execution_count": 79,
     "metadata": {},
     "output_type": "execute_result"
    }
   ],
   "source": [
    "conn,cur=mysql_connector()\n",
    "cur.execute(\"select c.course_id,c.course_name,sub.cnt from courses c join (select course_id, count(course_id) as cnt from enrollments c2 group by course_id having count(course_id) >(select avg(enroll_count) from (select count(course_id) as enroll_count from enrollments group by course_id) c2))sub on c.course_id=sub.course_id\")\n",
    "print(\"(c.course_id,c.course_name,sub.cnt)\")\n",
    "for x in cur:\n",
    "    print(x)\n",
    "cur.close()"
   ]
  },
  {
   "cell_type": "code",
   "execution_count": null,
   "id": "21180e2f",
   "metadata": {},
   "outputs": [],
   "source": []
  }
 ],
 "metadata": {
  "kernelspec": {
   "display_name": "Python 3",
   "language": "python",
   "name": "python3"
  },
  "language_info": {
   "codemirror_mode": {
    "name": "ipython",
    "version": 3
   },
   "file_extension": ".py",
   "mimetype": "text/x-python",
   "name": "python",
   "nbconvert_exporter": "python",
   "pygments_lexer": "ipython3",
   "version": "3.8.8"
  }
 },
 "nbformat": 4,
 "nbformat_minor": 5
}
